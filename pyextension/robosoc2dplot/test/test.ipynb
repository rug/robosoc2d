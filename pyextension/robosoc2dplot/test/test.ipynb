{
 "cells": [
  {
   "cell_type": "code",
   "execution_count": null,
   "metadata": {},
   "outputs": [],
   "source": [
    "%matplotlib inline\n",
    "import robosoc2d\n",
    "import robosoc2dplot.plot as r2plot\n",
    "\n",
    "sim_handle = robosoc2d.build_simpleplayer_simulator([], 4, [], 4)\n",
    "robosoc2d.simulator_step_if_playing(sim_handle)\n",
    "fig, ax = r2plot.draw(sim_handle)"
   ]
  },
  {
   "cell_type": "code",
   "execution_count": null,
   "metadata": {},
   "outputs": [],
   "source": [
    "# \"%matplotlib notebook\" is unsupported on Google Colab\n",
    "%matplotlib notebook\n",
    "#uncomment the line below (write \"%matplotlib notebook\" twice) if you previously used \"%matplotlib inline\": for some reason it wouldn't work otherwise in many Jupyter versions !\n",
    "#%matplotlib notebook \n",
    "import robosoc2d\n",
    "import robosoc2dplot.plot as r2plot\n",
    "\n",
    "sim_handle = robosoc2d.build_simpleplayer_simulator([], 4, [], 4)\n",
    "r2plot.play_whole_game_in_notebook(sim_handle, 0.05)"
   ]
  },
  {
   "cell_type": "code",
   "execution_count": null,
   "metadata": {},
   "outputs": [],
   "source": [
    "# equivalent to the previous cell but without using \"play_whole_game_in_notebook()\", in case you need to process something in the inner loop.\n",
    "# \"%matplotlib notebook\" is unsupported on Google Colab\n",
    "%matplotlib notebook \n",
    "import robosoc2d\n",
    "import robosoc2dplot.plot as r2plot\n",
    "import time\n",
    "\n",
    "sim_handle = robosoc2d.build_simpleplayer_simulator([], 4, [], 4)\n",
    "fig, ax = r2plot.draw(sim_handle)\n",
    "while(robosoc2d.simulator_step_if_playing(sim_handle)):\n",
    "    ax.clear()\n",
    "    r2plot.draw(sim_handle, axes=ax)\n",
    "    fig.canvas.draw()\n",
    "    time.sleep(0.001)\n"
   ]
  },
  {
   "cell_type": "code",
   "execution_count": null,
   "metadata": {},
   "outputs": [],
   "source": [
    "# step by step update clicking a button\n",
    "%matplotlib notebook\n",
    "import robosoc2d\n",
    "import robosoc2dplot.plot as r2plot\n",
    "\n",
    "sim_handle = robosoc2d.build_simpleplayer_simulator([], 4, [], 4)\n",
    "r2plot.play_steps_in_notebook(sim_handle)"
   ]
  },
  {
   "cell_type": "code",
   "execution_count": null,
   "metadata": {},
   "outputs": [],
   "source": [
    "%matplotlib inline\n",
    "import robosoc2d\n",
    "import robosoc2dplot.plot as r2plot\n",
    "\n",
    "sim_handle = robosoc2d.build_simpleplayer_simulator([], 4, [], 4)\n",
    "_ = r2plot.play_whole_game_in_notebook_inline(sim_handle, 0.05)"
   ]
  },
  {
   "cell_type": "code",
   "execution_count": null,
   "metadata": {},
   "outputs": [],
   "source": [
    "# equivalent to the previous cell but without using \"play_whole_game_in_notebook_inline()\", in case you need to process something in the inner loop.\n",
    "%matplotlib inline\n",
    "import robosoc2d\n",
    "import robosoc2dplot.plot as r2plot\n",
    "import time\n",
    "from IPython.display import clear_output\n",
    "\n",
    "sim_handle = robosoc2d.build_simpleplayer_simulator([], 4, [], 4)\n",
    "while(robosoc2d.simulator_step_if_playing(sim_handle)):\n",
    "    fig, ax = r2plot.draw(sim_handle)\n",
    "    r2plot.show()\n",
    "    time.sleep(0.05)\n",
    "    clear_output(wait=True)"
   ]
  },
  {
   "cell_type": "code",
   "execution_count": null,
   "metadata": {},
   "outputs": [],
   "source": [
    "# step by step update clicking a button\n",
    "%matplotlib inline\n",
    "import robosoc2d\n",
    "import robosoc2dplot.plot as r2plot\n",
    "\n",
    "sim_handle = robosoc2d.build_simpleplayer_simulator([], 4, [], 4)\n",
    "r2plot.play_steps_in_notebook_inline(sim_handle)"
   ]
  }
 ],
 "metadata": {
  "kernelspec": {
   "display_name": "Python 3",
   "language": "python",
   "name": "python3"
  },
  "language_info": {
   "codemirror_mode": {
    "name": "ipython",
    "version": 3
   },
   "file_extension": ".py",
   "mimetype": "text/x-python",
   "name": "python",
   "nbconvert_exporter": "python",
   "pygments_lexer": "ipython3",
   "version": "3.6.8"
  }
 },
 "nbformat": 4,
 "nbformat_minor": 2
}