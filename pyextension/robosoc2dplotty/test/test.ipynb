{
 "cells": [
  {
   "cell_type": "code",
   "execution_count": null,
   "metadata": {},
   "outputs": [],
   "source": [
    "# single picture\n",
    "import robosoc2d\n",
    "import robosoc2dplotty.plotty as r2plotty\n",
    "import time\n",
    "\n",
    "sim_handle = robosoc2d.build_simpleplayer_simulator([], 4, [], 4)\n",
    "robosoc2d.simulator_step_if_playing(sim_handle)\n",
    "fig = r2plotty.draw(sim_handle, draw_numbers=True)\n",
    "r2plotty.show(fig)"
   ]
  },
  {
   "cell_type": "code",
   "execution_count": null,
   "metadata": {},
   "outputs": [],
   "source": [
    "# whole game (CAREFUL THIS MAY HANG YOUR NOTEBOOK !)\n",
    "import robosoc2d\n",
    "import robosoc2dplotty.plotty as r2plotty\n",
    "\n",
    "sim_handle = robosoc2d.build_simpleplayer_simulator([], 4, [], 4)\n",
    "r2plotty.play_whole_game_in_notebook(sim_handle)"
   ]
  },
  {
   "cell_type": "code",
   "execution_count": null,
   "metadata": {},
   "outputs": [],
   "source": [
    "# equivalent to the previous cell but without using \"play_whole_game_in_notebook()\", in case you need to process something in the inner loop.\n",
    "import robosoc2d\n",
    "import robosoc2dplotty.plotty as r2plotty\n",
    "import time\n",
    "\n",
    "sim_handle = robosoc2d.build_simpleplayer_simulator([], 4, [], 4)\n",
    "fig = r2plotty.draw(sim_handle)\n",
    "display(fig)\n",
    "while(robosoc2d.simulator_step_if_playing(sim_handle)):\n",
    "    r2plotty.update(sim_handle, fig)\n",
    "    time.sleep(0.01)"
   ]
  },
  {
   "cell_type": "code",
   "execution_count": null,
   "metadata": {},
   "outputs": [],
   "source": [
    "# step by step update clicking a button\n",
    "import robosoc2d\n",
    "import robosoc2dplotty.plotty as r2plotty\n",
    "\n",
    "sim_handle = robosoc2d.build_simpleplayer_simulator([], 4, [], 4)\n",
    "r2plotty.play_steps_in_notebook(sim_handle)"
   ]
  }
 ],
 "metadata": {
  "kernelspec": {
   "display_name": "Python 3",
   "language": "python",
   "name": "python3"
  },
  "language_info": {
   "codemirror_mode": {
    "name": "ipython",
    "version": 3
   },
   "file_extension": ".py",
   "mimetype": "text/x-python",
   "name": "python",
   "nbconvert_exporter": "python",
   "pygments_lexer": "ipython3",
   "version": "3.6.8"
  }
 },
 "nbformat": 4,
 "nbformat_minor": 2
}